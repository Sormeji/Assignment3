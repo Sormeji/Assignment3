{
 "cells": [
  {
   "cell_type": "code",
   "execution_count": 1,
   "id": "afa6e961-b41e-4a76-8124-116d175392ca",
   "metadata": {
    "collapsed": true,
    "jupyter": {
     "outputs_hidden": true
    },
    "tags": []
   },
   "outputs": [
    {
     "ename": "SyntaxError",
     "evalue": "invalid syntax (1788587020.py, line 1)",
     "output_type": "error",
     "traceback": [
      "\u001b[0;36m  Cell \u001b[0;32mIn[1], line 1\u001b[0;36m\u001b[0m\n\u001b[0;31m    Q1Ans:\u001b[0m\n\u001b[0m          ^\u001b[0m\n\u001b[0;31mSyntaxError\u001b[0m\u001b[0;31m:\u001b[0m invalid syntax\n"
     ]
    }
   ],
   "source": [
    "Q1Ans:\n",
    "    def key word is used to create a function.\n",
    "    "
   ]
  },
  {
   "cell_type": "code",
   "execution_count": 5,
   "id": "5b7706e2-5562-4164-9372-e5144f3ae59d",
   "metadata": {},
   "outputs": [],
   "source": [
    "def test(n):\n",
    "    for i in range (n):\n",
    "        if i%2==1:\n",
    "            print(i)"
   ]
  },
  {
   "cell_type": "code",
   "execution_count": 6,
   "id": "8f765d7f-bfc0-46a3-9955-c9225161c73a",
   "metadata": {},
   "outputs": [
    {
     "name": "stdout",
     "output_type": "stream",
     "text": [
      "1\n",
      "3\n",
      "5\n",
      "7\n",
      "9\n",
      "11\n",
      "13\n",
      "15\n",
      "17\n",
      "19\n"
     ]
    }
   ],
   "source": [
    "test(20)"
   ]
  },
  {
   "cell_type": "code",
   "execution_count": 7,
   "id": "a625890b-234a-412c-9f24-85847ffe390c",
   "metadata": {
    "collapsed": true,
    "jupyter": {
     "outputs_hidden": true
    },
    "tags": []
   },
   "outputs": [
    {
     "ename": "SyntaxError",
     "evalue": "invalid syntax (973077507.py, line 1)",
     "output_type": "error",
     "traceback": [
      "\u001b[0;36m  Cell \u001b[0;32mIn[7], line 1\u001b[0;36m\u001b[0m\n\u001b[0;31m    Q2Ans:\u001b[0m\n\u001b[0m          ^\u001b[0m\n\u001b[0;31mSyntaxError\u001b[0m\u001b[0;31m:\u001b[0m invalid syntax\n"
     ]
    }
   ],
   "source": [
    "Q2Ans:\n",
    "    *args and **kwargs allow us to pass multiple arguments or keyword arguments to a function"
   ]
  },
  {
   "cell_type": "code",
   "execution_count": 8,
   "id": "4176acec-78e7-443e-b77d-57dde029e257",
   "metadata": {},
   "outputs": [
    {
     "data": {
      "text/plain": [
       "(7, 2, 4, 5, 'number')"
      ]
     },
     "execution_count": 8,
     "metadata": {},
     "output_type": "execute_result"
    }
   ],
   "source": [
    "def test1(*args):\n",
    "    return args\n",
    "test1(7,2,4,5,\"number\")"
   ]
  },
  {
   "cell_type": "code",
   "execution_count": 9,
   "id": "03576e95-2934-4d32-a7f1-8ad9b91f047d",
   "metadata": {},
   "outputs": [
    {
     "data": {
      "text/plain": [
       "{'a': [3, 4, 6, 7], 'b': 'name'}"
      ]
     },
     "execution_count": 9,
     "metadata": {},
     "output_type": "execute_result"
    }
   ],
   "source": [
    "def test2(**kwargs):\n",
    "    return kwargs\n",
    "test2(a=[3,4,6,7],b=\"name\")"
   ]
  },
  {
   "cell_type": "code",
   "execution_count": 12,
   "id": "d30275b8-3825-4a71-a023-7ad5ab3fe576",
   "metadata": {
    "collapsed": true,
    "jupyter": {
     "outputs_hidden": true
    },
    "tags": []
   },
   "outputs": [
    {
     "ename": "SyntaxError",
     "evalue": "invalid syntax (2505332081.py, line 1)",
     "output_type": "error",
     "traceback": [
      "\u001b[0;36m  Cell \u001b[0;32mIn[12], line 1\u001b[0;36m\u001b[0m\n\u001b[0;31m    Q3Ans:\u001b[0m\n\u001b[0m          ^\u001b[0m\n\u001b[0;31mSyntaxError\u001b[0m\u001b[0;31m:\u001b[0m invalid syntax\n"
     ]
    }
   ],
   "source": [
    "Q3Ans:\n",
    "    In Python, an iterator is an object that implements two essential methods: __iter__() and __next__(). \n",
    "    It allows us to iterate over collections of data, such as lists, tuples, dictionaries, and sets."
   ]
  },
  {
   "cell_type": "code",
   "execution_count": 1,
   "id": "84841e16-1b8b-4f0a-b088-df4eceaed6ea",
   "metadata": {
    "collapsed": true,
    "jupyter": {
     "outputs_hidden": true
    },
    "tags": []
   },
   "outputs": [
    {
     "ename": "SyntaxError",
     "evalue": "illegal target for annotation (4074553343.py, line 1)",
     "output_type": "error",
     "traceback": [
      "\u001b[0;36m  Cell \u001b[0;32mIn[1], line 1\u001b[0;36m\u001b[0m\n\u001b[0;31m    iter(): This method initializes and returns the iterator object itself.\u001b[0m\n\u001b[0m    ^\u001b[0m\n\u001b[0;31mSyntaxError\u001b[0m\u001b[0;31m:\u001b[0m illegal target for annotation\n"
     ]
    }
   ],
   "source": [
    "iter(): This method initializes and returns the iterator object itself.\n",
    "next(): This methhod used for itteration."
   ]
  },
  {
   "cell_type": "code",
   "execution_count": 2,
   "id": "7e4dcd7c-0d8e-4898-8ad0-53cee67f0fbd",
   "metadata": {},
   "outputs": [
    {
     "name": "stdout",
     "output_type": "stream",
     "text": [
      "2\n",
      "4\n",
      "6\n",
      "8\n",
      "10\n"
     ]
    }
   ],
   "source": [
    "l = [2, 4, 6, 8, 10, 12, 14, 16, 18, 20]\n",
    "iterator = iter(l)\n",
    "for i in range(5):\n",
    "    print(next(iterator))"
   ]
  },
  {
   "cell_type": "code",
   "execution_count": 3,
   "id": "6a41a3b6-484b-41b8-9afb-4f70029403eb",
   "metadata": {
    "collapsed": true,
    "jupyter": {
     "outputs_hidden": true
    },
    "tags": []
   },
   "outputs": [
    {
     "ename": "SyntaxError",
     "evalue": "invalid syntax (3304833753.py, line 1)",
     "output_type": "error",
     "traceback": [
      "\u001b[0;36m  Cell \u001b[0;32mIn[3], line 1\u001b[0;36m\u001b[0m\n\u001b[0;31m    Q4Ans:A generator function in Python is a special type of function that uses the yield keyword instead of return to return values one at a time.\u001b[0m\n\u001b[0m            ^\u001b[0m\n\u001b[0;31mSyntaxError\u001b[0m\u001b[0;31m:\u001b[0m invalid syntax\n"
     ]
    }
   ],
   "source": [
    "Q4Ans:A generator function in Python is a special type of function that uses the yield keyword instead of return to return values one at a time. "
   ]
  },
  {
   "cell_type": "code",
   "execution_count": 4,
   "id": "6a90a04b-c46e-4185-afb4-0b28cf948516",
   "metadata": {
    "collapsed": true,
    "jupyter": {
     "outputs_hidden": true
    },
    "tags": []
   },
   "outputs": [
    {
     "ename": "SyntaxError",
     "evalue": "invalid syntax (1089040654.py, line 1)",
     "output_type": "error",
     "traceback": [
      "\u001b[0;36m  Cell \u001b[0;32mIn[4], line 1\u001b[0;36m\u001b[0m\n\u001b[0;31m    The yield keyword is used in generator functions to \"yield\" a value back to the caller while maintaining the state of the function\u001b[0m\n\u001b[0m        ^\u001b[0m\n\u001b[0;31mSyntaxError\u001b[0m\u001b[0;31m:\u001b[0m invalid syntax\n"
     ]
    }
   ],
   "source": [
    "The yield keyword is used in generator functions to \"yield\" a value back to the caller while maintaining the state of the function"
   ]
  },
  {
   "cell_type": "code",
   "execution_count": 17,
   "id": "563c065b-6304-4cf9-a42d-1311202668e5",
   "metadata": {},
   "outputs": [],
   "source": [
    "def test_fib(n):\n",
    "    a, b = 0, 1\n",
    "    for i in range(n):\n",
    "        yield a\n",
    "        a, b = b, a + b\n"
   ]
  },
  {
   "cell_type": "code",
   "execution_count": 19,
   "id": "2750481b-90e1-4065-97e2-1b36e1cdd3de",
   "metadata": {},
   "outputs": [
    {
     "name": "stdout",
     "output_type": "stream",
     "text": [
      "0\n",
      "1\n",
      "1\n",
      "2\n",
      "3\n",
      "5\n",
      "8\n",
      "13\n",
      "21\n",
      "34\n"
     ]
    }
   ],
   "source": [
    "for i in test_fib(10):\n",
    "    print (i)"
   ]
  },
  {
   "cell_type": "code",
   "execution_count": 4,
   "id": "7a095f99-1057-418b-a50b-a1750f46a856",
   "metadata": {},
   "outputs": [
    {
     "name": "stdout",
     "output_type": "stream",
     "text": [
      "2\n",
      "3\n",
      "5\n",
      "7\n",
      "11\n",
      "13\n",
      "17\n",
      "19\n",
      "23\n",
      "29\n",
      "31\n",
      "37\n",
      "41\n",
      "43\n",
      "47\n",
      "53\n",
      "59\n",
      "61\n",
      "67\n",
      "71\n"
     ]
    }
   ],
   "source": [
    "#Q5Ans:\n",
    "def is_prime(n):\n",
    "    return n > 1 and all(n % i != 0 for i in range(2, int(n ** 0.5) + 1))\n",
    "\n",
    "def prime_generator(limit):\n",
    "    return (n for n in range(2, limit) if is_prime(n))\n",
    "prime_no = prime_generator(1000)\n",
    "\n",
    "for i in range(20):\n",
    "    print(next(prime_no))\n",
    "   "
   ]
  },
  {
   "cell_type": "code",
   "execution_count": 6,
   "id": "48d7852d-c2bd-4167-a424-473d6e822d65",
   "metadata": {},
   "outputs": [],
   "source": [
    "#Q6Ans:\n",
    "def test_fib():\n",
    "    a,b=0,1\n",
    "    while True:\n",
    "        yield a\n",
    "        a,b=b,a+b"
   ]
  },
  {
   "cell_type": "code",
   "execution_count": 7,
   "id": "074af35f-eed3-4dd3-bdfc-fe56ac19c48f",
   "metadata": {},
   "outputs": [],
   "source": [
    "fib=test_fib()"
   ]
  },
  {
   "cell_type": "code",
   "execution_count": 8,
   "id": "37b106c3-bc6e-4b34-b1d1-cc8427f0e0d8",
   "metadata": {},
   "outputs": [
    {
     "name": "stdout",
     "output_type": "stream",
     "text": [
      "0\n",
      "1\n",
      "1\n",
      "2\n",
      "3\n",
      "5\n",
      "8\n",
      "13\n",
      "21\n",
      "34\n"
     ]
    }
   ],
   "source": [
    "for i in range(10):\n",
    "    print(next(fib))"
   ]
  },
  {
   "cell_type": "code",
   "execution_count": 11,
   "id": "b20bee4e-869c-49de-b558-1fc94e820bb2",
   "metadata": {},
   "outputs": [
    {
     "data": {
      "text/plain": [
       "['p', 'w', 's', 'k', 'i', 'l', 'l', 's']"
      ]
     },
     "execution_count": 11,
     "metadata": {},
     "output_type": "execute_result"
    }
   ],
   "source": [
    "#Q7.Ans:\n",
    "s=\"pwskills\"\n",
    "list(map(lambda s:s.lower(),s))"
   ]
  },
  {
   "cell_type": "code",
   "execution_count": null,
   "id": "6b6fde63-f201-4a49-a272-d938b4265de8",
   "metadata": {},
   "outputs": [],
   "source": [
    "#Q8Ans:\n",
    "def is_palindrome(num):\n",
    "    original_num = num\n",
    "    reversed_num = 0\n",
    "\n",
    "    while num > 0:\n",
    "        digit = num % 10\n",
    "        reversed_num = reversed_num * 10 + digit\n",
    "        num //= 10\n",
    "\n",
    "    return original_num == reversed_num\n",
    "\n",
    "num = int(input(\"Enter a number: \"))\n",
    "\n",
    "if is_palindrome(num):\n",
    "    print(f\"{num} is a palindrome.\")\n",
    "else:\n",
    "    print(f\"{num} is not a palindrome.\")\n"
   ]
  },
  {
   "cell_type": "code",
   "execution_count": 1,
   "id": "315d9aa2-c9ae-48ce-9d3e-b8a04a611c35",
   "metadata": {},
   "outputs": [
    {
     "name": "stdout",
     "output_type": "stream",
     "text": [
      "[1, 3, 5, 7, 9, 11, 13, 15, 17, 19, 21, 23, 25, 27, 29, 31, 33, 35, 37, 39, 41, 43, 45, 47, 49, 51, 53, 55, 57, 59, 61, 63, 65, 67, 69, 71, 73, 75, 77, 79, 81, 83, 85, 87, 89, 91, 93, 95, 97, 99]\n"
     ]
    }
   ],
   "source": [
    "#Q9Ans:\n",
    "numbers_list = [num for num in range(1, 101)]\n",
    "\n",
    "odd_numbers = [num for num in numbers_list if num % 2 != 0]\n",
    "\n",
    "print(odd_numbers)\n"
   ]
  },
  {
   "cell_type": "code",
   "execution_count": null,
   "id": "8d8273f1-2ceb-49ad-9608-2c02a1c867d8",
   "metadata": {},
   "outputs": [],
   "source": []
  }
 ],
 "metadata": {
  "kernelspec": {
   "display_name": "Python 3 (ipykernel)",
   "language": "python",
   "name": "python3"
  },
  "language_info": {
   "codemirror_mode": {
    "name": "ipython",
    "version": 3
   },
   "file_extension": ".py",
   "mimetype": "text/x-python",
   "name": "python",
   "nbconvert_exporter": "python",
   "pygments_lexer": "ipython3",
   "version": "3.10.8"
  }
 },
 "nbformat": 4,
 "nbformat_minor": 5
}
